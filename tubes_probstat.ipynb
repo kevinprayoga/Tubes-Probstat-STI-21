{
 "cells": [
  {
   "cell_type": "code",
   "execution_count": 583,
   "metadata": {},
   "outputs": [],
   "source": [
    "# Nama    : Kevin Prayoga Abdinegara\n",
    "# NIM     : 18221141\n",
    "# Jurusan : STI-G\n",
    "# Kelas   : K01\n",
    "# Dosen   : Dimitri Mahayana"
   ]
  },
  {
   "cell_type": "code",
   "execution_count": 584,
   "metadata": {},
   "outputs": [],
   "source": [
    "import pandas as pd\n",
    "import matplotlib.pyplot as plt\n",
    "import numpy as py\n",
    "import seaborn as sns\n",
    "import scipy.stats as st\n",
    "from scipy.stats import norm\n",
    "import statsmodels.api as sm\n",
    "from statsmodels.formula.api import ols"
   ]
  },
  {
   "cell_type": "code",
   "execution_count": 585,
   "metadata": {},
   "outputs": [
    {
     "data": {
      "text/html": [
       "<div>\n",
       "<style scoped>\n",
       "    .dataframe tbody tr th:only-of-type {\n",
       "        vertical-align: middle;\n",
       "    }\n",
       "\n",
       "    .dataframe tbody tr th {\n",
       "        vertical-align: top;\n",
       "    }\n",
       "\n",
       "    .dataframe thead th {\n",
       "        text-align: right;\n",
       "    }\n",
       "</style>\n",
       "<table border=\"1\" class=\"dataframe\">\n",
       "  <thead>\n",
       "    <tr style=\"text-align: right;\">\n",
       "      <th></th>\n",
       "      <th>Jenis Kelamin</th>\n",
       "      <th>Usia</th>\n",
       "      <th>Pendidikan Terakhir</th>\n",
       "      <th>Pekerjaan</th>\n",
       "      <th>Penghasilan per Bulan</th>\n",
       "      <th>Domisili</th>\n",
       "      <th>Durasi Penggunaan Internet per Hari (dalam Jam)</th>\n",
       "      <th>Aktivitas Online Meningkat</th>\n",
       "      <th>Aktivitas yang Meningkat dalam 3 Bulan Terakhir</th>\n",
       "      <th>layanan_aktif_1</th>\n",
       "      <th>...</th>\n",
       "      <th>cara_pembayaran_belanja_online_5</th>\n",
       "      <th>cara_pembayaran_belanja_online_6</th>\n",
       "      <th>cara_pembayaran_belanja_online_7</th>\n",
       "      <th>cara_pembayaran_belanja_online_8</th>\n",
       "      <th>keluhan_belanja_online_1</th>\n",
       "      <th>keluhan_belanja_online_2</th>\n",
       "      <th>keluhan_belanja_online_3</th>\n",
       "      <th>keluhan_belanja_online_4</th>\n",
       "      <th>keluhan_belanja_online_5</th>\n",
       "      <th>keluhan_belanja_online_6</th>\n",
       "    </tr>\n",
       "  </thead>\n",
       "  <tbody>\n",
       "    <tr>\n",
       "      <th>0</th>\n",
       "      <td>Pria</td>\n",
       "      <td>20.0</td>\n",
       "      <td>SMA</td>\n",
       "      <td>Pelajar / Mahasiswa</td>\n",
       "      <td>Rp 2 juta – Rp 5 juta</td>\n",
       "      <td>Bandung</td>\n",
       "      <td>1500%</td>\n",
       "      <td>Ya</td>\n",
       "      <td>Akses media sosial</td>\n",
       "      <td>Mobile Banking</td>\n",
       "      <td>...</td>\n",
       "      <td>NaN</td>\n",
       "      <td>NaN</td>\n",
       "      <td>NaN</td>\n",
       "      <td>NaN</td>\n",
       "      <td>NaN</td>\n",
       "      <td>NaN</td>\n",
       "      <td>NaN</td>\n",
       "      <td>NaN</td>\n",
       "      <td>NaN</td>\n",
       "      <td>NaN</td>\n",
       "    </tr>\n",
       "    <tr>\n",
       "      <th>1</th>\n",
       "      <td>Pria</td>\n",
       "      <td>21.0</td>\n",
       "      <td>SMA</td>\n",
       "      <td>Pelajar / Mahasiswa</td>\n",
       "      <td>Rp 2 juta – Rp 5 juta</td>\n",
       "      <td>Bandung</td>\n",
       "      <td>800%</td>\n",
       "      <td>Sama saja</td>\n",
       "      <td>Mengikuti kelas online</td>\n",
       "      <td>Mobile Banking</td>\n",
       "      <td>...</td>\n",
       "      <td>NaN</td>\n",
       "      <td>NaN</td>\n",
       "      <td>Melalui minimarket</td>\n",
       "      <td>NaN</td>\n",
       "      <td>NaN</td>\n",
       "      <td>NaN</td>\n",
       "      <td>NaN</td>\n",
       "      <td>NaN</td>\n",
       "      <td>NaN</td>\n",
       "      <td>NaN</td>\n",
       "    </tr>\n",
       "    <tr>\n",
       "      <th>2</th>\n",
       "      <td>Pria</td>\n",
       "      <td>54.0</td>\n",
       "      <td>D3</td>\n",
       "      <td>Karyawan Swasta</td>\n",
       "      <td>&gt; Rp 10 juta</td>\n",
       "      <td>Kab Bogor</td>\n",
       "      <td>NaN</td>\n",
       "      <td>Sama saja</td>\n",
       "      <td>NaN</td>\n",
       "      <td>Mobile Banking</td>\n",
       "      <td>...</td>\n",
       "      <td>NaN</td>\n",
       "      <td>NaN</td>\n",
       "      <td>NaN</td>\n",
       "      <td>NaN</td>\n",
       "      <td>Barang yang diperoleh tidak sesuai dengan spes...</td>\n",
       "      <td>NaN</td>\n",
       "      <td>NaN</td>\n",
       "      <td>NaN</td>\n",
       "      <td>NaN</td>\n",
       "      <td>NaN</td>\n",
       "    </tr>\n",
       "    <tr>\n",
       "      <th>3</th>\n",
       "      <td>Wanita</td>\n",
       "      <td>30.0</td>\n",
       "      <td>D3</td>\n",
       "      <td>Pegawai Negeri</td>\n",
       "      <td>Rp 2 juta – Rp 5 juta</td>\n",
       "      <td>Semarang</td>\n",
       "      <td>800%</td>\n",
       "      <td>Sama saja</td>\n",
       "      <td>NaN</td>\n",
       "      <td>Mobile Banking</td>\n",
       "      <td>...</td>\n",
       "      <td>NaN</td>\n",
       "      <td>NaN</td>\n",
       "      <td>NaN</td>\n",
       "      <td>NaN</td>\n",
       "      <td>NaN</td>\n",
       "      <td>Barang rusak/ salah tetapi tidak dapat dikemba...</td>\n",
       "      <td>NaN</td>\n",
       "      <td>NaN</td>\n",
       "      <td>NaN</td>\n",
       "      <td>NaN</td>\n",
       "    </tr>\n",
       "    <tr>\n",
       "      <th>4</th>\n",
       "      <td>Pria</td>\n",
       "      <td>61.0</td>\n",
       "      <td>D3</td>\n",
       "      <td>Wiraswasta</td>\n",
       "      <td>&gt; Rp 10 juta</td>\n",
       "      <td>Bekasi</td>\n",
       "      <td>NaN</td>\n",
       "      <td>Sama saja</td>\n",
       "      <td>NaN</td>\n",
       "      <td>Mobile Banking</td>\n",
       "      <td>...</td>\n",
       "      <td>NaN</td>\n",
       "      <td>Kartu Kredit / Debit Online</td>\n",
       "      <td>NaN</td>\n",
       "      <td>NaN</td>\n",
       "      <td>Barang yang diperoleh tidak sesuai dengan spes...</td>\n",
       "      <td>NaN</td>\n",
       "      <td>Pembayaran sudah dilakukan; barang tidak tersedia</td>\n",
       "      <td>NaN</td>\n",
       "      <td>NaN</td>\n",
       "      <td>NaN</td>\n",
       "    </tr>\n",
       "    <tr>\n",
       "      <th>...</th>\n",
       "      <td>...</td>\n",
       "      <td>...</td>\n",
       "      <td>...</td>\n",
       "      <td>...</td>\n",
       "      <td>...</td>\n",
       "      <td>...</td>\n",
       "      <td>...</td>\n",
       "      <td>...</td>\n",
       "      <td>...</td>\n",
       "      <td>...</td>\n",
       "      <td>...</td>\n",
       "      <td>...</td>\n",
       "      <td>...</td>\n",
       "      <td>...</td>\n",
       "      <td>...</td>\n",
       "      <td>...</td>\n",
       "      <td>...</td>\n",
       "      <td>...</td>\n",
       "      <td>...</td>\n",
       "      <td>...</td>\n",
       "      <td>...</td>\n",
       "    </tr>\n",
       "    <tr>\n",
       "      <th>295</th>\n",
       "      <td>Pria</td>\n",
       "      <td>48.0</td>\n",
       "      <td>SMA</td>\n",
       "      <td>Pengusaha</td>\n",
       "      <td>&gt; Rp 10 juta</td>\n",
       "      <td>Medan</td>\n",
       "      <td>500%</td>\n",
       "      <td>Sama saja</td>\n",
       "      <td>NaN</td>\n",
       "      <td>Mobile Banking</td>\n",
       "      <td>...</td>\n",
       "      <td>NaN</td>\n",
       "      <td>NaN</td>\n",
       "      <td>NaN</td>\n",
       "      <td>NaN</td>\n",
       "      <td>NaN</td>\n",
       "      <td>NaN</td>\n",
       "      <td>NaN</td>\n",
       "      <td>NaN</td>\n",
       "      <td>NaN</td>\n",
       "      <td>NaN</td>\n",
       "    </tr>\n",
       "    <tr>\n",
       "      <th>296</th>\n",
       "      <td>Wanita</td>\n",
       "      <td>45.0</td>\n",
       "      <td>S1</td>\n",
       "      <td>Ibu rumah tangga</td>\n",
       "      <td>Rp 5 juta – Rp 10 juta</td>\n",
       "      <td>Jakarta</td>\n",
       "      <td>NaN</td>\n",
       "      <td>Sama saja</td>\n",
       "      <td>Streaming video/ film</td>\n",
       "      <td>NaN</td>\n",
       "      <td>...</td>\n",
       "      <td>NaN</td>\n",
       "      <td>NaN</td>\n",
       "      <td>NaN</td>\n",
       "      <td>NaN</td>\n",
       "      <td>Barang yang diperoleh tidak sesuai dengan spes...</td>\n",
       "      <td>NaN</td>\n",
       "      <td>Pembayaran sudah dilakukan; barang tidak tersedia</td>\n",
       "      <td>NaN</td>\n",
       "      <td>NaN</td>\n",
       "      <td>NaN</td>\n",
       "    </tr>\n",
       "    <tr>\n",
       "      <th>297</th>\n",
       "      <td>Pria</td>\n",
       "      <td>19.0</td>\n",
       "      <td>SMA</td>\n",
       "      <td>Pelajar / Mahasiswa</td>\n",
       "      <td>&lt; Rp 2 juta</td>\n",
       "      <td>Bandung</td>\n",
       "      <td>NaN</td>\n",
       "      <td>Sama saja</td>\n",
       "      <td>NaN</td>\n",
       "      <td>Mobile Banking</td>\n",
       "      <td>...</td>\n",
       "      <td>NaN</td>\n",
       "      <td>NaN</td>\n",
       "      <td>NaN</td>\n",
       "      <td>NaN</td>\n",
       "      <td>Barang yang diperoleh tidak sesuai dengan spes...</td>\n",
       "      <td>NaN</td>\n",
       "      <td>NaN</td>\n",
       "      <td>NaN</td>\n",
       "      <td>NaN</td>\n",
       "      <td>NaN</td>\n",
       "    </tr>\n",
       "    <tr>\n",
       "      <th>298</th>\n",
       "      <td>Wanita</td>\n",
       "      <td>30.0</td>\n",
       "      <td>D4</td>\n",
       "      <td>Karyawan Swasta</td>\n",
       "      <td>Rp 5 juta – Rp 10 juta</td>\n",
       "      <td>Bekasi</td>\n",
       "      <td>NaN</td>\n",
       "      <td>Ya</td>\n",
       "      <td>Mengikuti kelas olahraga secara online</td>\n",
       "      <td>Mobile Banking</td>\n",
       "      <td>...</td>\n",
       "      <td>NaN</td>\n",
       "      <td>Kartu Kredit / Debit Online</td>\n",
       "      <td>NaN</td>\n",
       "      <td>NaN</td>\n",
       "      <td>Barang yang diperoleh tidak sesuai dengan spes...</td>\n",
       "      <td>Barang rusak/ salah tetapi tidak dapat dikemba...</td>\n",
       "      <td>NaN</td>\n",
       "      <td>Jumlah barang yang diterima kurang</td>\n",
       "      <td>NaN</td>\n",
       "      <td>NaN</td>\n",
       "    </tr>\n",
       "    <tr>\n",
       "      <th>299</th>\n",
       "      <td>Wanita</td>\n",
       "      <td>55.0</td>\n",
       "      <td>S1</td>\n",
       "      <td>Pegawai Negeri</td>\n",
       "      <td>&gt; Rp 10 juta</td>\n",
       "      <td>Batam</td>\n",
       "      <td>600%</td>\n",
       "      <td>Sama saja</td>\n",
       "      <td>NaN</td>\n",
       "      <td>Mobile Banking</td>\n",
       "      <td>...</td>\n",
       "      <td>NaN</td>\n",
       "      <td>NaN</td>\n",
       "      <td>NaN</td>\n",
       "      <td>NaN</td>\n",
       "      <td>Barang yang diperoleh tidak sesuai dengan spes...</td>\n",
       "      <td>NaN</td>\n",
       "      <td>NaN</td>\n",
       "      <td>NaN</td>\n",
       "      <td>NaN</td>\n",
       "      <td>NaN</td>\n",
       "    </tr>\n",
       "  </tbody>\n",
       "</table>\n",
       "<p>300 rows × 150 columns</p>\n",
       "</div>"
      ],
      "text/plain": [
       "    Jenis Kelamin  Usia Pendidikan Terakhir            Pekerjaan  \\\n",
       "0            Pria  20.0                 SMA  Pelajar / Mahasiswa   \n",
       "1            Pria  21.0                 SMA  Pelajar / Mahasiswa   \n",
       "2            Pria  54.0                  D3      Karyawan Swasta   \n",
       "3          Wanita  30.0                  D3       Pegawai Negeri   \n",
       "4            Pria  61.0                  D3           Wiraswasta   \n",
       "..            ...   ...                 ...                  ...   \n",
       "295          Pria  48.0                 SMA            Pengusaha   \n",
       "296        Wanita  45.0                  S1     Ibu rumah tangga   \n",
       "297          Pria  19.0                 SMA  Pelajar / Mahasiswa   \n",
       "298        Wanita  30.0                  D4      Karyawan Swasta   \n",
       "299        Wanita  55.0                  S1       Pegawai Negeri   \n",
       "\n",
       "      Penghasilan per Bulan   Domisili  \\\n",
       "0     Rp 2 juta – Rp 5 juta    Bandung   \n",
       "1     Rp 2 juta – Rp 5 juta    Bandung   \n",
       "2              > Rp 10 juta  Kab Bogor   \n",
       "3     Rp 2 juta – Rp 5 juta   Semarang   \n",
       "4              > Rp 10 juta     Bekasi   \n",
       "..                      ...        ...   \n",
       "295            > Rp 10 juta      Medan   \n",
       "296  Rp 5 juta – Rp 10 juta    Jakarta   \n",
       "297             < Rp 2 juta    Bandung   \n",
       "298  Rp 5 juta – Rp 10 juta     Bekasi   \n",
       "299            > Rp 10 juta      Batam   \n",
       "\n",
       "    Durasi Penggunaan Internet per Hari (dalam Jam)  \\\n",
       "0                                             1500%   \n",
       "1                                              800%   \n",
       "2                                               NaN   \n",
       "3                                              800%   \n",
       "4                                               NaN   \n",
       "..                                              ...   \n",
       "295                                            500%   \n",
       "296                                             NaN   \n",
       "297                                             NaN   \n",
       "298                                             NaN   \n",
       "299                                            600%   \n",
       "\n",
       "    Aktivitas Online Meningkat  \\\n",
       "0                           Ya   \n",
       "1                    Sama saja   \n",
       "2                    Sama saja   \n",
       "3                    Sama saja   \n",
       "4                    Sama saja   \n",
       "..                         ...   \n",
       "295                  Sama saja   \n",
       "296                  Sama saja   \n",
       "297                  Sama saja   \n",
       "298                         Ya   \n",
       "299                  Sama saja   \n",
       "\n",
       "    Aktivitas yang Meningkat dalam 3 Bulan Terakhir layanan_aktif_1  ...  \\\n",
       "0                                Akses media sosial  Mobile Banking  ...   \n",
       "1                            Mengikuti kelas online  Mobile Banking  ...   \n",
       "2                                               NaN  Mobile Banking  ...   \n",
       "3                                               NaN  Mobile Banking  ...   \n",
       "4                                               NaN  Mobile Banking  ...   \n",
       "..                                              ...             ...  ...   \n",
       "295                                             NaN  Mobile Banking  ...   \n",
       "296                           Streaming video/ film             NaN  ...   \n",
       "297                                             NaN  Mobile Banking  ...   \n",
       "298          Mengikuti kelas olahraga secara online  Mobile Banking  ...   \n",
       "299                                             NaN  Mobile Banking  ...   \n",
       "\n",
       "    cara_pembayaran_belanja_online_5 cara_pembayaran_belanja_online_6  \\\n",
       "0                                NaN                              NaN   \n",
       "1                                NaN                              NaN   \n",
       "2                                NaN                              NaN   \n",
       "3                                NaN                              NaN   \n",
       "4                                NaN      Kartu Kredit / Debit Online   \n",
       "..                               ...                              ...   \n",
       "295                              NaN                              NaN   \n",
       "296                              NaN                              NaN   \n",
       "297                              NaN                              NaN   \n",
       "298                              NaN      Kartu Kredit / Debit Online   \n",
       "299                              NaN                              NaN   \n",
       "\n",
       "    cara_pembayaran_belanja_online_7 cara_pembayaran_belanja_online_8  \\\n",
       "0                                NaN                              NaN   \n",
       "1                 Melalui minimarket                              NaN   \n",
       "2                                NaN                              NaN   \n",
       "3                                NaN                              NaN   \n",
       "4                                NaN                              NaN   \n",
       "..                               ...                              ...   \n",
       "295                              NaN                              NaN   \n",
       "296                              NaN                              NaN   \n",
       "297                              NaN                              NaN   \n",
       "298                              NaN                              NaN   \n",
       "299                              NaN                              NaN   \n",
       "\n",
       "                              keluhan_belanja_online_1  \\\n",
       "0                                                  NaN   \n",
       "1                                                  NaN   \n",
       "2    Barang yang diperoleh tidak sesuai dengan spes...   \n",
       "3                                                  NaN   \n",
       "4    Barang yang diperoleh tidak sesuai dengan spes...   \n",
       "..                                                 ...   \n",
       "295                                                NaN   \n",
       "296  Barang yang diperoleh tidak sesuai dengan spes...   \n",
       "297  Barang yang diperoleh tidak sesuai dengan spes...   \n",
       "298  Barang yang diperoleh tidak sesuai dengan spes...   \n",
       "299  Barang yang diperoleh tidak sesuai dengan spes...   \n",
       "\n",
       "                              keluhan_belanja_online_2  \\\n",
       "0                                                  NaN   \n",
       "1                                                  NaN   \n",
       "2                                                  NaN   \n",
       "3    Barang rusak/ salah tetapi tidak dapat dikemba...   \n",
       "4                                                  NaN   \n",
       "..                                                 ...   \n",
       "295                                                NaN   \n",
       "296                                                NaN   \n",
       "297                                                NaN   \n",
       "298  Barang rusak/ salah tetapi tidak dapat dikemba...   \n",
       "299                                                NaN   \n",
       "\n",
       "                              keluhan_belanja_online_3  \\\n",
       "0                                                  NaN   \n",
       "1                                                  NaN   \n",
       "2                                                  NaN   \n",
       "3                                                  NaN   \n",
       "4    Pembayaran sudah dilakukan; barang tidak tersedia   \n",
       "..                                                 ...   \n",
       "295                                                NaN   \n",
       "296  Pembayaran sudah dilakukan; barang tidak tersedia   \n",
       "297                                                NaN   \n",
       "298                                                NaN   \n",
       "299                                                NaN   \n",
       "\n",
       "               keluhan_belanja_online_4 keluhan_belanja_online_5  \\\n",
       "0                                   NaN                      NaN   \n",
       "1                                   NaN                      NaN   \n",
       "2                                   NaN                      NaN   \n",
       "3                                   NaN                      NaN   \n",
       "4                                   NaN                      NaN   \n",
       "..                                  ...                      ...   \n",
       "295                                 NaN                      NaN   \n",
       "296                                 NaN                      NaN   \n",
       "297                                 NaN                      NaN   \n",
       "298  Jumlah barang yang diterima kurang                      NaN   \n",
       "299                                 NaN                      NaN   \n",
       "\n",
       "    keluhan_belanja_online_6  \n",
       "0                        NaN  \n",
       "1                        NaN  \n",
       "2                        NaN  \n",
       "3                        NaN  \n",
       "4                        NaN  \n",
       "..                       ...  \n",
       "295                      NaN  \n",
       "296                      NaN  \n",
       "297                      NaN  \n",
       "298                      NaN  \n",
       "299                      NaN  \n",
       "\n",
       "[300 rows x 150 columns]"
      ]
     },
     "execution_count": 585,
     "metadata": {},
     "output_type": "execute_result"
    }
   ],
   "source": [
    "df = pd.read_excel('18221141.xlsx')\n",
    "df"
   ]
  },
  {
   "cell_type": "code",
   "execution_count": 586,
   "metadata": {},
   "outputs": [],
   "source": [
    "pd.DataFrame((df.columns)).to_excel('col.xlsx')"
   ]
  },
  {
   "attachments": {},
   "cell_type": "markdown",
   "metadata": {},
   "source": [
    "# Nomor 1"
   ]
  },
  {
   "cell_type": "code",
   "execution_count": 587,
   "metadata": {},
   "outputs": [
    {
     "data": {
      "text/plain": [
       "<AxesSubplot: ylabel='Jenis Kelamin'>"
      ]
     },
     "execution_count": 587,
     "metadata": {},
     "output_type": "execute_result"
    },
    {
     "data": {
      "image/png": "[encoded data removed]",
      "text/plain": [
       "<Figure size 640x480 with 1 Axes>"
      ]
     },
     "metadata": {},
     "output_type": "display_data"
    }
   ],
   "source": [
    "# 1. Buat bar chart / pie chart/ donut chart yang menunjukkan perbedaan frekuensi / proporsi jenis kelamin responden.\n",
    "color = {'cyan', 'magenta'}\n",
    "df['Jenis Kelamin'].value_counts().plot(kind='pie', autopct='%.2f', colors=color)"
   ]
  },
  {
   "attachments": {},
   "cell_type": "markdown",
   "metadata": {},
   "source": [
    "# Nomor 2"
   ]
  },
  {
   "cell_type": "code",
   "execution_count": 588,
   "metadata": {},
   "outputs": [
    {
     "data": {
      "text/html": [
       "<div>\n",
       "<style scoped>\n",
       "    .dataframe tbody tr th:only-of-type {\n",
       "        vertical-align: middle;\n",
       "    }\n",
       "\n",
       "    .dataframe tbody tr th {\n",
       "        vertical-align: top;\n",
       "    }\n",
       "\n",
       "    .dataframe thead th {\n",
       "        text-align: right;\n",
       "    }\n",
       "</style>\n",
       "<table border=\"1\" class=\"dataframe\">\n",
       "  <thead>\n",
       "    <tr style=\"text-align: right;\">\n",
       "      <th></th>\n",
       "      <th>Frekuensi</th>\n",
       "      <th>Proporsi</th>\n",
       "    </tr>\n",
       "    <tr>\n",
       "      <th>Jenis Kelamin</th>\n",
       "      <th></th>\n",
       "      <th></th>\n",
       "    </tr>\n",
       "  </thead>\n",
       "  <tbody>\n",
       "    <tr>\n",
       "      <th>Wanita</th>\n",
       "      <td>151</td>\n",
       "      <td>0.503333</td>\n",
       "    </tr>\n",
       "    <tr>\n",
       "      <th>Pria</th>\n",
       "      <td>147</td>\n",
       "      <td>0.490000</td>\n",
       "    </tr>\n",
       "  </tbody>\n",
       "</table>\n",
       "</div>"
      ],
      "text/plain": [
       "               Frekuensi  Proporsi\n",
       "Jenis Kelamin                     \n",
       "Wanita               151  0.503333\n",
       "Pria                 147  0.490000"
      ]
     },
     "execution_count": 588,
     "metadata": {},
     "output_type": "execute_result"
    }
   ],
   "source": [
    "# 2. Buat tabel frekuensi dan proporsi untuk jenis kelamin responden\n",
    "dfgender = df['Jenis Kelamin'].value_counts()\n",
    "dfgender_pc = (df['Jenis Kelamin'].value_counts()/len(df))\n",
    "dfgender_tabel = pd.concat([dfgender, dfgender_pc], axis = 1)\n",
    "dfgender_tabel.columns = ['Frekuensi', 'Proporsi']\n",
    "dfgender_tabel.index.name = 'Jenis Kelamin'\n",
    "dfgender_tabel"
   ]
  },
  {
   "attachments": {},
   "cell_type": "markdown",
   "metadata": {},
   "source": [
    "# Nomor 3"
   ]
  },
  {
   "cell_type": "code",
   "execution_count": 589,
   "metadata": {},
   "outputs": [
    {
     "data": {
      "image/png": "[encoded data removed]",
      "text/plain": [
       "<Figure size 640x480 with 1 Axes>"
      ]
     },
     "metadata": {},
     "output_type": "display_data"
    }
   ],
   "source": [
    "# 3. Buat histogram untuk data umur responden\n",
    "dfusia = df.loc[(df['Usia'] <= 100)]\n",
    "graph = dfusia['Usia'].plot(kind='hist', bins=(10, 20, 30, 40, 50, 60, 70), title='Data Usia Responden', edgecolor='black', color='gold')\n",
    "graph.set_axisbelow(True)\n",
    "\n",
    "plt.xlabel('Usia')\n",
    "plt.grid(axis='y')"
   ]
  },
  {
   "attachments": {},
   "cell_type": "markdown",
   "metadata": {},
   "source": [
    "# Nomor 4"
   ]
  },
  {
   "cell_type": "code",
   "execution_count": 590,
   "metadata": {},
   "outputs": [
    {
     "data": {
      "image/png": "[encoded data removed]",
      "text/plain": [
       "<Figure size 640x480 with 1 Axes>"
      ]
     },
     "metadata": {},
     "output_type": "display_data"
    }
   ],
   "source": [
    "# 4. Buat boxplot untuk data umur responden.\n",
    "graph1 = dfusia['Usia'].plot(kind = 'box', title = 'Data Usia', color='hotpink')\n",
    "\n",
    "plt.grid(axis = 'y')"
   ]
  },
  {
   "attachments": {},
   "cell_type": "markdown",
   "metadata": {},
   "source": [
    "# Nomor 5"
   ]
  },
  {
   "cell_type": "code",
   "execution_count": 591,
   "metadata": {},
   "outputs": [
    {
     "name": "stdout",
     "output_type": "stream",
     "text": [
      "count    297.000000\n",
      "mean      31.006734\n",
      "std       13.347485\n",
      "min       17.000000\n",
      "25%       19.000000\n",
      "50%       24.000000\n",
      "75%       44.000000\n",
      "max       62.000000\n",
      "Name: Usia, dtype: float64\n"
     ]
    }
   ],
   "source": [
    "# 5. Identifikasi nilai mean, Q1, Q2/median, Q3, min, max dari data umur responden.\n",
    "print(dfusia['Usia'].describe())"
   ]
  },
  {
   "attachments": {},
   "cell_type": "markdown",
   "metadata": {},
   "source": [
    "# Nomor 6"
   ]
  },
  {
   "cell_type": "code",
   "execution_count": 592,
   "metadata": {},
   "outputs": [
    {
     "name": "stdout",
     "output_type": "stream",
     "text": [
      "Tidak terdapat data outlier\n"
     ]
    }
   ],
   "source": [
    "# 6. Apakah terdapat outlier pada data umur responden. (Definisi outlier : < Q1 – 1.5 IQR atau > Q3 + 1.5 IQR; IQR = Q3 – Q1)\n",
    "q1 = py.percentile(dfusia['Usia'], 25)\n",
    "q3 = py.percentile(dfusia['Usia'], 75)\n",
    "iqr = q3 - q1\n",
    "\n",
    "dfusia_outlier = dfusia.loc[(dfusia['Usia'] < q1 - 1.5*iqr) | (dfusia['Usia'] > q3 + 1.5*iqr)] \n",
    "\n",
    "if (len(dfusia_outlier) == 0):\n",
    "    print('Tidak terdapat data outlier')\n",
    "else:\n",
    "    dfusia_outlier['Usia']"
   ]
  },
  {
   "attachments": {},
   "cell_type": "markdown",
   "metadata": {},
   "source": [
    "# Nomor 7"
   ]
  },
  {
   "cell_type": "code",
   "execution_count": 593,
   "metadata": {},
   "outputs": [
    {
     "data": {
      "image/png": "[encoded data removed]",
      "text/plain": [
       "<Figure size 640x480 with 1 Axes>"
      ]
     },
     "metadata": {},
     "output_type": "display_data"
    }
   ],
   "source": [
    "# 7. Buat bar chart / pie chart/ donut chart yang menunjukkan perbedaan frekuensi / proporsi profesi responden.\n",
    "df_pf = (df.iloc[:, 3:4]).apply(pd.Series.value_counts).dropna(how='all').sum(1).sort_values(ascending=False)\n",
    "df_pf = df_pf.reset_index(name='Frekuensi').set_index('index')\n",
    "df_pf['Proporsi'] = df_pf['Frekuensi']/len(df)\n",
    "df_pf.index.name = 'Pekerjaan Responden'\n",
    "\n",
    "bar = sns.barplot(df_pf, x=df_pf['Frekuensi'], y=df_pf.index, palette='husl')\n",
    "bar.set_title('Jumlah Pekerjaan')\n",
    "bar.set_axisbelow(True)\n",
    "plt.grid(axis = 'x')\n",
    "plt.show()"
   ]
  },
  {
   "attachments": {},
   "cell_type": "markdown",
   "metadata": {},
   "source": [
    "# Nomor 8"
   ]
  },
  {
   "cell_type": "code",
   "execution_count": 594,
   "metadata": {},
   "outputs": [
    {
     "data": {
      "text/html": [
       "<div>\n",
       "<style scoped>\n",
       "    .dataframe tbody tr th:only-of-type {\n",
       "        vertical-align: middle;\n",
       "    }\n",
       "\n",
       "    .dataframe tbody tr th {\n",
       "        vertical-align: top;\n",
       "    }\n",
       "\n",
       "    .dataframe thead th {\n",
       "        text-align: right;\n",
       "    }\n",
       "</style>\n",
       "<table border=\"1\" class=\"dataframe\">\n",
       "  <thead>\n",
       "    <tr style=\"text-align: right;\">\n",
       "      <th></th>\n",
       "      <th>Frekuensi</th>\n",
       "      <th>Proporsi</th>\n",
       "    </tr>\n",
       "    <tr>\n",
       "      <th>Pekerjaan Responden</th>\n",
       "      <th></th>\n",
       "      <th></th>\n",
       "    </tr>\n",
       "  </thead>\n",
       "  <tbody>\n",
       "    <tr>\n",
       "      <th>Pelajar / Mahasiswa</th>\n",
       "      <td>141</td>\n",
       "      <td>0.470000</td>\n",
       "    </tr>\n",
       "    <tr>\n",
       "      <th>Karyawan Swasta</th>\n",
       "      <td>74</td>\n",
       "      <td>0.246667</td>\n",
       "    </tr>\n",
       "    <tr>\n",
       "      <th>Ibu Rumah Tangga</th>\n",
       "      <td>21</td>\n",
       "      <td>0.070000</td>\n",
       "    </tr>\n",
       "    <tr>\n",
       "      <th>Profesional ( Dokter, Dosen, Pengacara, dll)</th>\n",
       "      <td>17</td>\n",
       "      <td>0.056667</td>\n",
       "    </tr>\n",
       "    <tr>\n",
       "      <th>Pegawai Negeri</th>\n",
       "      <td>14</td>\n",
       "      <td>0.046667</td>\n",
       "    </tr>\n",
       "    <tr>\n",
       "      <th>Pengusaha</th>\n",
       "      <td>12</td>\n",
       "      <td>0.040000</td>\n",
       "    </tr>\n",
       "    <tr>\n",
       "      <th>Wiraswasta</th>\n",
       "      <td>2</td>\n",
       "      <td>0.006667</td>\n",
       "    </tr>\n",
       "    <tr>\n",
       "      <th>BUMN</th>\n",
       "      <td>2</td>\n",
       "      <td>0.006667</td>\n",
       "    </tr>\n",
       "    <tr>\n",
       "      <th>Karyawan BUMN</th>\n",
       "      <td>2</td>\n",
       "      <td>0.006667</td>\n",
       "    </tr>\n",
       "    <tr>\n",
       "      <th>Pengangguran</th>\n",
       "      <td>1</td>\n",
       "      <td>0.003333</td>\n",
       "    </tr>\n",
       "    <tr>\n",
       "      <th>Pelaku umkm</th>\n",
       "      <td>1</td>\n",
       "      <td>0.003333</td>\n",
       "    </tr>\n",
       "    <tr>\n",
       "      <th>Wiraswasta</th>\n",
       "      <td>1</td>\n",
       "      <td>0.003333</td>\n",
       "    </tr>\n",
       "    <tr>\n",
       "      <th>TNI</th>\n",
       "      <td>1</td>\n",
       "      <td>0.003333</td>\n",
       "    </tr>\n",
       "    <tr>\n",
       "      <th>Purnabakti pns</th>\n",
       "      <td>1</td>\n",
       "      <td>0.003333</td>\n",
       "    </tr>\n",
       "    <tr>\n",
       "      <th>Pegawai</th>\n",
       "      <td>1</td>\n",
       "      <td>0.003333</td>\n",
       "    </tr>\n",
       "    <tr>\n",
       "      <th>pensiun</th>\n",
       "      <td>1</td>\n",
       "      <td>0.003333</td>\n",
       "    </tr>\n",
       "    <tr>\n",
       "      <th>Honorer</th>\n",
       "      <td>1</td>\n",
       "      <td>0.003333</td>\n",
       "    </tr>\n",
       "    <tr>\n",
       "      <th>HONORER</th>\n",
       "      <td>1</td>\n",
       "      <td>0.003333</td>\n",
       "    </tr>\n",
       "    <tr>\n",
       "      <th>Guru Swasta</th>\n",
       "      <td>1</td>\n",
       "      <td>0.003333</td>\n",
       "    </tr>\n",
       "    <tr>\n",
       "      <th>Pegawai BUMN</th>\n",
       "      <td>1</td>\n",
       "      <td>0.003333</td>\n",
       "    </tr>\n",
       "    <tr>\n",
       "      <th>Karyawan Bumd</th>\n",
       "      <td>1</td>\n",
       "      <td>0.003333</td>\n",
       "    </tr>\n",
       "    <tr>\n",
       "      <th>Ibu rumah tangga</th>\n",
       "      <td>1</td>\n",
       "      <td>0.003333</td>\n",
       "    </tr>\n",
       "  </tbody>\n",
       "</table>\n",
       "</div>"
      ],
      "text/plain": [
       "                                              Frekuensi  Proporsi\n",
       "Pekerjaan Responden                                              \n",
       "Pelajar / Mahasiswa                                 141  0.470000\n",
       "Karyawan Swasta                                      74  0.246667\n",
       "Ibu Rumah Tangga                                     21  0.070000\n",
       "Profesional ( Dokter, Dosen, Pengacara, dll)         17  0.056667\n",
       "Pegawai Negeri                                       14  0.046667\n",
       "Pengusaha                                            12  0.040000\n",
       "Wiraswasta                                            2  0.006667\n",
       "BUMN                                                  2  0.006667\n",
       "Karyawan BUMN                                         2  0.006667\n",
       "Pengangguran                                          1  0.003333\n",
       "Pelaku umkm                                           1  0.003333\n",
       "Wiraswasta                                            1  0.003333\n",
       "TNI                                                   1  0.003333\n",
       "Purnabakti pns                                        1  0.003333\n",
       "Pegawai                                               1  0.003333\n",
       "pensiun                                               1  0.003333\n",
       "Honorer                                               1  0.003333\n",
       "HONORER                                               1  0.003333\n",
       "Guru Swasta                                           1  0.003333\n",
       "Pegawai BUMN                                          1  0.003333\n",
       "Karyawan Bumd                                         1  0.003333\n",
       "Ibu rumah tangga                                      1  0.003333"
      ]
     },
     "execution_count": 594,
     "metadata": {},
     "output_type": "execute_result"
    }
   ],
   "source": [
    "# 8. Buat tabel frekuensi dan proporsi untuk profesi responden\n",
    "df_pf"
   ]
  },
  {
   "attachments": {},
   "cell_type": "markdown",
   "metadata": {},
   "source": [
    "# Nomor 9"
   ]
  },
  {
   "cell_type": "code",
   "execution_count": 595,
   "metadata": {},
   "outputs": [
    {
     "data": {
      "image/png": "[encoded data removed]",
      "text/plain": [
       "<Figure size 640x480 with 1 Axes>"
      ]
     },
     "metadata": {},
     "output_type": "display_data"
    }
   ],
   "source": [
    "# 9. Buat bar chart / pie chart/ donut chart yang menunjukkan perbedaan frekuensi / proporsi \n",
    "# untuk apakah aktivitas online responden meningkat atau tidak dalam 3 bulan terakhir.\n",
    "dfAKT = (df.iloc[:, 7:8]).apply(pd.Series.value_counts).dropna(how='all').sum(1).sort_values(ascending=False)\n",
    "dfAKT = dfAKT.reset_index(name='Frekuensi').set_index('index')\n",
    "dfAKT['Proporsi'] = dfAKT['Frekuensi']/len(df)\n",
    "dfAKT.index.name = 'Aktivitas Online Meningkat'\n",
    "\n",
    "plt.pie(dfAKT['Proporsi'], labels = dfAKT.index,autopct='%.2f%%', colors=['red','blue', 'chocolate'])\n",
    "plt.title('Akitivitas Online Responden Meningkat Dalam 3 Bulan Terakhir')\n",
    "plt.show()"
   ]
  },
  {
   "attachments": {},
   "cell_type": "markdown",
   "metadata": {},
   "source": [
    "# Nomor 10"
   ]
  },
  {
   "cell_type": "code",
   "execution_count": 596,
   "metadata": {},
   "outputs": [
    {
     "data": {
      "text/html": [
       "<div>\n",
       "<style scoped>\n",
       "    .dataframe tbody tr th:only-of-type {\n",
       "        vertical-align: middle;\n",
       "    }\n",
       "\n",
       "    .dataframe tbody tr th {\n",
       "        vertical-align: top;\n",
       "    }\n",
       "\n",
       "    .dataframe thead th {\n",
       "        text-align: right;\n",
       "    }\n",
       "</style>\n",
       "<table border=\"1\" class=\"dataframe\">\n",
       "  <thead>\n",
       "    <tr style=\"text-align: right;\">\n",
       "      <th></th>\n",
       "      <th>Frekuensi</th>\n",
       "      <th>Proporsi</th>\n",
       "    </tr>\n",
       "    <tr>\n",
       "      <th>Aktivitas Online Meningkat</th>\n",
       "      <th></th>\n",
       "      <th></th>\n",
       "    </tr>\n",
       "  </thead>\n",
       "  <tbody>\n",
       "    <tr>\n",
       "      <th>Ya</th>\n",
       "      <td>148</td>\n",
       "      <td>0.493333</td>\n",
       "    </tr>\n",
       "    <tr>\n",
       "      <th>Sama saja</th>\n",
       "      <td>123</td>\n",
       "      <td>0.410000</td>\n",
       "    </tr>\n",
       "    <tr>\n",
       "      <th>Tidak</th>\n",
       "      <td>29</td>\n",
       "      <td>0.096667</td>\n",
       "    </tr>\n",
       "  </tbody>\n",
       "</table>\n",
       "</div>"
      ],
      "text/plain": [
       "                            Frekuensi  Proporsi\n",
       "Aktivitas Online Meningkat                     \n",
       "Ya                                148  0.493333\n",
       "Sama saja                         123  0.410000\n",
       "Tidak                              29  0.096667"
      ]
     },
     "execution_count": 596,
     "metadata": {},
     "output_type": "execute_result"
    }
   ],
   "source": [
    "# 10. Buat tabel frekuensi dan proporsi untuk apakah aktivitas online responden meningkat atau tidak dalam 3 bulan terakhir.\n",
    "dfAKT"
   ]
  },
  {
   "attachments": {},
   "cell_type": "markdown",
   "metadata": {},
   "source": [
    "# Nomor 11"
   ]
  },
  {
   "cell_type": "code",
   "execution_count": 597,
   "metadata": {},
   "outputs": [
    {
     "data": {
      "image/png": "[encoded data removed]",
      "text/plain": [
       "<Figure size 640x480 with 1 Axes>"
      ]
     },
     "metadata": {},
     "output_type": "display_data"
    }
   ],
   "source": [
    "# 11. Buat bar chart yang perbandingan frekuensi/proporsi pengguna 7 bank yang ada di kolom bank_1 sampai bank_7\n",
    "df_bank = (df.iloc[:, 15:22]).apply(pd.Series.value_counts).dropna(how='all').sum(1).sort_values(ascending= False)\n",
    "df_bank = df_bank.reset_index(name='Frekuensi').set_index('index')\n",
    "df_bank['Proporsi'] = df_bank['Frekuensi']/len(df)\n",
    "df_bank.index.name = 'Bank'\n",
    "\n",
    "bar = sns.barplot(df_bank, x=df_bank['Frekuensi'], y=df_bank.index, palette='husl')\n",
    "bar.set_title('Jumlah Bank')\n",
    "bar.set_axisbelow(True)\n",
    "plt.grid(axis = 'x')\n",
    "plt.show()"
   ]
  },
  {
   "attachments": {},
   "cell_type": "markdown",
   "metadata": {},
   "source": [
    "# Nomor 12"
   ]
  },
  {
   "cell_type": "code",
   "execution_count": 598,
   "metadata": {},
   "outputs": [
    {
     "data": {
      "text/html": [
       "<div>\n",
       "<style scoped>\n",
       "    .dataframe tbody tr th:only-of-type {\n",
       "        vertical-align: middle;\n",
       "    }\n",
       "\n",
       "    .dataframe tbody tr th {\n",
       "        vertical-align: top;\n",
       "    }\n",
       "\n",
       "    .dataframe thead th {\n",
       "        text-align: right;\n",
       "    }\n",
       "</style>\n",
       "<table border=\"1\" class=\"dataframe\">\n",
       "  <thead>\n",
       "    <tr style=\"text-align: right;\">\n",
       "      <th></th>\n",
       "      <th>Frekuensi</th>\n",
       "      <th>Proporsi</th>\n",
       "    </tr>\n",
       "    <tr>\n",
       "      <th>Bank</th>\n",
       "      <th></th>\n",
       "      <th></th>\n",
       "    </tr>\n",
       "  </thead>\n",
       "  <tbody>\n",
       "    <tr>\n",
       "      <th>Bank BCA</th>\n",
       "      <td>159.0</td>\n",
       "      <td>0.530000</td>\n",
       "    </tr>\n",
       "    <tr>\n",
       "      <th>Bank Mandiri</th>\n",
       "      <td>85.0</td>\n",
       "      <td>0.283333</td>\n",
       "    </tr>\n",
       "    <tr>\n",
       "      <th>Bank BNI</th>\n",
       "      <td>78.0</td>\n",
       "      <td>0.260000</td>\n",
       "    </tr>\n",
       "    <tr>\n",
       "      <th>Bank BRI</th>\n",
       "      <td>46.0</td>\n",
       "      <td>0.153333</td>\n",
       "    </tr>\n",
       "    <tr>\n",
       "      <th>Bank CIMB Niaga</th>\n",
       "      <td>17.0</td>\n",
       "      <td>0.056667</td>\n",
       "    </tr>\n",
       "    <tr>\n",
       "      <th>Bank Permata</th>\n",
       "      <td>10.0</td>\n",
       "      <td>0.033333</td>\n",
       "    </tr>\n",
       "    <tr>\n",
       "      <th>Bank BTN</th>\n",
       "      <td>5.0</td>\n",
       "      <td>0.016667</td>\n",
       "    </tr>\n",
       "  </tbody>\n",
       "</table>\n",
       "</div>"
      ],
      "text/plain": [
       "                 Frekuensi  Proporsi\n",
       "Bank                                \n",
       "Bank BCA             159.0  0.530000\n",
       "Bank Mandiri          85.0  0.283333\n",
       "Bank BNI              78.0  0.260000\n",
       "Bank BRI              46.0  0.153333\n",
       "Bank CIMB Niaga       17.0  0.056667\n",
       "Bank Permata          10.0  0.033333\n",
       "Bank BTN               5.0  0.016667"
      ]
     },
     "execution_count": 598,
     "metadata": {},
     "output_type": "execute_result"
    }
   ],
   "source": [
    "# 12. Buat tabel frekuensi dan proporsi pengguna 7 bank yang ada di kolom bank_1 sampai bank_7.\n",
    "df_bank"
   ]
  },
  {
   "attachments": {},
   "cell_type": "markdown",
   "metadata": {},
   "source": [
    "# Nomor 13"
   ]
  },
  {
   "cell_type": "code",
   "execution_count": 599,
   "metadata": {},
   "outputs": [
    {
     "name": "stdout",
     "output_type": "stream",
     "text": [
      "0.47352 < p bca < 0.58648\n"
     ]
    }
   ],
   "source": [
    "# 13. Hitung confidence interval 95% untuk proporsi pengguna Bank BCA: \n",
    "# . . < Pbca <..\n",
    "z_alpha_per2_13 = norm.ppf(1-(2.5/100))\n",
    "prop_bca = df_bank.loc['Bank BCA', 'Proporsi']\n",
    "n_bank = len(df)\n",
    "\n",
    "error_bca = z_alpha_per2_13 * (prop_bca*(1-prop_bca)/n_bank)**(0.5)\n",
    "\n",
    "print(round(prop_bca - error_bca, 5), '< p bca <', round(prop_bca + error_bca, 5))"
   ]
  },
  {
   "attachments": {},
   "cell_type": "markdown",
   "metadata": {},
   "source": [
    "# Nomor 14"
   ]
  },
  {
   "cell_type": "code",
   "execution_count": 600,
   "metadata": {},
   "outputs": [
    {
     "name": "stdout",
     "output_type": "stream",
     "text": [
      "critical region = { z > 1.959963984540054 } U { z < -1.959963984540054 }\n",
      "z = 1.0392304845413272\n",
      "Kesimpulan: H0 gagal ditolak.\n"
     ]
    }
   ],
   "source": [
    "# 14. Lakukan uji hipotesis berikut:\n",
    "\n",
    "# H0: Pbca = 0.5\n",
    "# H1: Pbca ≠ 0.5\n",
    "# alpha = 5%\n",
    "p0_bca = 0.5\n",
    "z_alpha_per2_14 = norm.ppf(1-(2.5/100))\n",
    "\n",
    "print('critical region = { z >', z_alpha_per2_14, '} U { z <', -z_alpha_per2_14, '}')\n",
    "\n",
    "z_14 = n_bank * (prop_bca - p0_bca) / (n_bank * p0_bca * (1-p0_bca))**(0.5)\n",
    "\n",
    "print('z =', z_14)\n",
    "if (z_14 > z_alpha_per2_14 or z_14 < -z_alpha_per2_14):\n",
    "    print('Kesimpulan: H0 berhasil ditolak.')\n",
    "else:\n",
    "    print('Kesimpulan: H0 gagal ditolak.')"
   ]
  },
  {
   "attachments": {},
   "cell_type": "markdown",
   "metadata": {},
   "source": [
    "# Nomor 15"
   ]
  },
  {
   "cell_type": "code",
   "execution_count": 601,
   "metadata": {},
   "outputs": [
    {
     "data": {
      "image/png": "[encoded data removed]",
      "text/plain": [
       "<Figure size 640x480 with 1 Axes>"
      ]
     },
     "metadata": {},
     "output_type": "display_data"
    }
   ],
   "source": [
    "# 15. Buat bar chart yang menunjukkan perbedaan frekuensi / proporsi untuk preferensi channel\n",
    "# yang dipilih responden untuk melakukan “Transfer antar bank”.\n",
    "dfTRF = (df.iloc[:, 30:31]).apply(pd.Series.value_counts).dropna(how='all').sum(1).sort_values(ascending=False)\n",
    "dfTRF = dfTRF.reset_index(name='Frekuensi').set_index('index')\n",
    "dfTRF['Proporsi'] = dfTRF['Frekuensi']/len(df)\n",
    "dfTRF.index.name = 'Transfer Antar Bank'\n",
    "\n",
    "bar = sns.barplot(dfTRF, x=dfTRF['Frekuensi'], y=dfTRF.index, palette='hls')\n",
    "bar.set_title('Transfer Antar Bank Responden')\n",
    "bar.set_axisbelow(True)\n",
    "plt.grid(axis = 'x')\n",
    "plt.show()"
   ]
  },
  {
   "attachments": {},
   "cell_type": "markdown",
   "metadata": {},
   "source": [
    "# Nomor 16"
   ]
  },
  {
   "cell_type": "code",
   "execution_count": 602,
   "metadata": {},
   "outputs": [
    {
     "data": {
      "text/html": [
       "<div>\n",
       "<style scoped>\n",
       "    .dataframe tbody tr th:only-of-type {\n",
       "        vertical-align: middle;\n",
       "    }\n",
       "\n",
       "    .dataframe tbody tr th {\n",
       "        vertical-align: top;\n",
       "    }\n",
       "\n",
       "    .dataframe thead th {\n",
       "        text-align: right;\n",
       "    }\n",
       "</style>\n",
       "<table border=\"1\" class=\"dataframe\">\n",
       "  <thead>\n",
       "    <tr style=\"text-align: right;\">\n",
       "      <th></th>\n",
       "      <th>Frekuensi</th>\n",
       "      <th>Proporsi</th>\n",
       "    </tr>\n",
       "    <tr>\n",
       "      <th>Transfer Antar Bank</th>\n",
       "      <th></th>\n",
       "      <th></th>\n",
       "    </tr>\n",
       "  </thead>\n",
       "  <tbody>\n",
       "    <tr>\n",
       "      <th>Mobile Banking</th>\n",
       "      <td>197</td>\n",
       "      <td>0.656667</td>\n",
       "    </tr>\n",
       "    <tr>\n",
       "      <th>Internet Banking</th>\n",
       "      <td>30</td>\n",
       "      <td>0.100000</td>\n",
       "    </tr>\n",
       "    <tr>\n",
       "      <th>ATM</th>\n",
       "      <td>12</td>\n",
       "      <td>0.040000</td>\n",
       "    </tr>\n",
       "    <tr>\n",
       "      <th>Datang ke cabang bank</th>\n",
       "      <td>2</td>\n",
       "      <td>0.006667</td>\n",
       "    </tr>\n",
       "  </tbody>\n",
       "</table>\n",
       "</div>"
      ],
      "text/plain": [
       "                       Frekuensi  Proporsi\n",
       "Transfer Antar Bank                       \n",
       "Mobile Banking               197  0.656667\n",
       "Internet Banking              30  0.100000\n",
       "ATM                           12  0.040000\n",
       "Datang ke cabang bank          2  0.006667"
      ]
     },
     "execution_count": 602,
     "metadata": {},
     "output_type": "execute_result"
    }
   ],
   "source": [
    "# 16. Buat tabel frekuensi dan proporsi untuk preferensi channel yang dipilih responden untuk melakukan “Transfer antar bank”.\n",
    "dfTRF"
   ]
  },
  {
   "attachments": {},
   "cell_type": "markdown",
   "metadata": {},
   "source": [
    "# Nomor 17"
   ]
  },
  {
   "cell_type": "code",
   "execution_count": 603,
   "metadata": {},
   "outputs": [
    {
     "data": {
      "image/png": "[encoded data removed]",
      "text/plain": [
       "<Figure size 640x480 with 1 Axes>"
      ]
     },
     "metadata": {},
     "output_type": "display_data"
    }
   ],
   "source": [
    "# 17. Buat bar chart yang perbandingan frekuensi/proporsi pengguna 7 emoney yang ada\n",
    "# di kolom emoney_pilihan_1 sampai emoney_pilihan_7 (8 – 11 tidak usah)\n",
    "dfEMO = (df.iloc[:, 37:44]).apply(pd.Series.value_counts).dropna(how='all').sum(1).sort_values(ascending=False)\n",
    "dfEMO = dfEMO.reset_index(name='Frekuensi').set_index('index')\n",
    "dfEMO['Proporsi'] = dfEMO['Frekuensi']/len(df)\n",
    "dfEMO.index.name = 'Pengguna eMoney'\n",
    "\n",
    "bar = sns.barplot(dfEMO, x=dfEMO['Frekuensi'], y=dfEMO.index, palette='Spectral')\n",
    "bar.set_title('Pengguna eMoney')\n",
    "bar.set_axisbelow(True)\n",
    "plt.grid(axis = 'x')\n",
    "plt.show()"
   ]
  },
  {
   "attachments": {},
   "cell_type": "markdown",
   "metadata": {},
   "source": [
    "# Nomor 18"
   ]
  },
  {
   "cell_type": "code",
   "execution_count": 604,
   "metadata": {},
   "outputs": [
    {
     "data": {
      "text/html": [
       "<div>\n",
       "<style scoped>\n",
       "    .dataframe tbody tr th:only-of-type {\n",
       "        vertical-align: middle;\n",
       "    }\n",
       "\n",
       "    .dataframe tbody tr th {\n",
       "        vertical-align: top;\n",
       "    }\n",
       "\n",
       "    .dataframe thead th {\n",
       "        text-align: right;\n",
       "    }\n",
       "</style>\n",
       "<table border=\"1\" class=\"dataframe\">\n",
       "  <thead>\n",
       "    <tr style=\"text-align: right;\">\n",
       "      <th></th>\n",
       "      <th>Frekuensi</th>\n",
       "      <th>Proporsi</th>\n",
       "    </tr>\n",
       "    <tr>\n",
       "      <th>Pengguna eMoney</th>\n",
       "      <th></th>\n",
       "      <th></th>\n",
       "    </tr>\n",
       "  </thead>\n",
       "  <tbody>\n",
       "    <tr>\n",
       "      <th>GoPay</th>\n",
       "      <td>224.0</td>\n",
       "      <td>0.746667</td>\n",
       "    </tr>\n",
       "    <tr>\n",
       "      <th>OVO</th>\n",
       "      <td>166.0</td>\n",
       "      <td>0.553333</td>\n",
       "    </tr>\n",
       "    <tr>\n",
       "      <th>ShopeePay</th>\n",
       "      <td>158.0</td>\n",
       "      <td>0.526667</td>\n",
       "    </tr>\n",
       "    <tr>\n",
       "      <th>Dana</th>\n",
       "      <td>104.0</td>\n",
       "      <td>0.346667</td>\n",
       "    </tr>\n",
       "    <tr>\n",
       "      <th>eMoney Mandiri</th>\n",
       "      <td>86.0</td>\n",
       "      <td>0.286667</td>\n",
       "    </tr>\n",
       "    <tr>\n",
       "      <th>Flazz BCA</th>\n",
       "      <td>58.0</td>\n",
       "      <td>0.193333</td>\n",
       "    </tr>\n",
       "    <tr>\n",
       "      <th>LinkAja</th>\n",
       "      <td>34.0</td>\n",
       "      <td>0.113333</td>\n",
       "    </tr>\n",
       "  </tbody>\n",
       "</table>\n",
       "</div>"
      ],
      "text/plain": [
       "                 Frekuensi  Proporsi\n",
       "Pengguna eMoney                     \n",
       "GoPay                224.0  0.746667\n",
       "OVO                  166.0  0.553333\n",
       "ShopeePay            158.0  0.526667\n",
       "Dana                 104.0  0.346667\n",
       "eMoney Mandiri        86.0  0.286667\n",
       "Flazz BCA             58.0  0.193333\n",
       "LinkAja               34.0  0.113333"
      ]
     },
     "execution_count": 604,
     "metadata": {},
     "output_type": "execute_result"
    }
   ],
   "source": [
    "# 18. Buat tabel frekuensi dan proporsi pengguna 7 emoney yang ada\n",
    "# di kolom emoney_pilihan_1 sampai emoney_pilihan_7 (8 – 11 tidak usah)\n",
    "dfEMO"
   ]
  },
  {
   "attachments": {},
   "cell_type": "markdown",
   "metadata": {},
   "source": [
    "# Nomor 19"
   ]
  },
  {
   "cell_type": "code",
   "execution_count": 605,
   "metadata": {},
   "outputs": [
    {
     "name": "stdout",
     "output_type": "stream",
     "text": [
      "0.11859 < (p gopay - p ovo) < 0.26808\n"
     ]
    }
   ],
   "source": [
    "# 19. Hitung confidence interval 95% untuk selisih proporsi pengguna Gopay dan OVO.\n",
    "\n",
    "# . . < Pgopay − Povo <..\n",
    "z_alpha_per2_19 = norm.ppf(1-(2.5/100))\n",
    "p_gopay = dfEMO.loc['GoPay', 'Proporsi']\n",
    "p_ovo = dfEMO.loc['OVO', 'Proporsi']\n",
    "gopay_min_ovo = p_gopay - p_ovo\n",
    "\n",
    "n_emoney = len(df)\n",
    "\n",
    "error_gopay_ovo = z_alpha_per2_19 * ((p_gopay*(1-p_gopay)/n_emoney)+(p_ovo*(1-p_ovo)/n_emoney))**(0.5)\n",
    "\n",
    "print(round(gopay_min_ovo - error_gopay_ovo, 5), '< (p gopay - p ovo) <', round(gopay_min_ovo + error_gopay_ovo, 5))"
   ]
  },
  {
   "attachments": {},
   "cell_type": "markdown",
   "metadata": {},
   "source": [
    "# Nomor 20"
   ]
  },
  {
   "cell_type": "code",
   "execution_count": 606,
   "metadata": {},
   "outputs": [
    {
     "name": "stdout",
     "output_type": "stream",
     "text": [
      "Critical region = { z > 1.6448536269514722 }\n",
      "z = 4.964341713126591\n",
      "Kesimpulan: H0 berhasil ditolak.\n"
     ]
    }
   ],
   "source": [
    "# 20. Lakukan uji hipotesis berikut:\n",
    "\n",
    "# H0: Pgopay = Povo\n",
    "# H1: Pgopay > Povo\n",
    "# alpha = 5%\n",
    "z_alpha_per2_20 = norm.ppf(1-(5/100))\n",
    "x_gopay = dfEMO.loc['GoPay', 'Frekuensi']\n",
    "x_ovo = dfEMO.loc['OVO', 'Frekuensi']\n",
    "p_hat_no20 = (x_gopay + x_ovo)/(n_emoney*2)\n",
    "\n",
    "print('Critical region = { z >', z_alpha_per2_20, '}')\n",
    "\n",
    "z_20 = gopay_min_ovo / (p_hat_no20*(1-p_hat_no20)*(2/n_emoney))**(0.5)\n",
    "\n",
    "print('z =', z_20)\n",
    "if (z_20 > z_alpha_per2_20):\n",
    "    print('Kesimpulan: H0 berhasil ditolak.')\n",
    "else:\n",
    "    print('Kesimpulan: H0 gagal ditolak.')"
   ]
  },
  {
   "attachments": {},
   "cell_type": "markdown",
   "metadata": {},
   "source": [
    "# Nomor 21"
   ]
  },
  {
   "cell_type": "code",
   "execution_count": 607,
   "metadata": {},
   "outputs": [
    {
     "data": {
      "image/png": "[encoded data removed]",
      "text/plain": [
       "<Figure size 640x480 with 1 Axes>"
      ]
     },
     "metadata": {},
     "output_type": "display_data"
    }
   ],
   "source": [
    "# 21. Buat bar chart / pie chart/ donut chart yang menunjukkan perbedaan frekuensi / proporsi untuk nominal yang biasa dipakai untuk top up emoney.\n",
    "dfNOM = (df.iloc[:, 70:71]).apply(pd.Series.value_counts).dropna(how='all').sum(1).sort_values(ascending=False)\n",
    "dfNOM = dfNOM.reset_index(name='Frekuensi').set_index('index')\n",
    "dfNOM['Proporsi'] = dfNOM['Frekuensi']/len(df)\n",
    "dfNOM.index.name = 'Nominal Top Up eMoney'\n",
    "\n",
    "bar = sns.barplot(dfNOM, x=dfNOM['Frekuensi'], y=dfNOM.index, palette='husl')\n",
    "bar.set_title('Nominal Top Up eMoney Responden')\n",
    "bar.set_axisbelow(True)\n",
    "plt.grid(axis = 'x')\n",
    "plt.show()"
   ]
  },
  {
   "attachments": {},
   "cell_type": "markdown",
   "metadata": {},
   "source": [
    "# Nomor  22"
   ]
  },
  {
   "cell_type": "code",
   "execution_count": 608,
   "metadata": {},
   "outputs": [
    {
     "data": {
      "text/html": [
       "<div>\n",
       "<style scoped>\n",
       "    .dataframe tbody tr th:only-of-type {\n",
       "        vertical-align: middle;\n",
       "    }\n",
       "\n",
       "    .dataframe tbody tr th {\n",
       "        vertical-align: top;\n",
       "    }\n",
       "\n",
       "    .dataframe thead th {\n",
       "        text-align: right;\n",
       "    }\n",
       "</style>\n",
       "<table border=\"1\" class=\"dataframe\">\n",
       "  <thead>\n",
       "    <tr style=\"text-align: right;\">\n",
       "      <th></th>\n",
       "      <th>Frekuensi</th>\n",
       "      <th>Proporsi</th>\n",
       "    </tr>\n",
       "    <tr>\n",
       "      <th>Nominal Top Up eMoney</th>\n",
       "      <th></th>\n",
       "      <th></th>\n",
       "    </tr>\n",
       "  </thead>\n",
       "  <tbody>\n",
       "    <tr>\n",
       "      <th>Rp 50.001 – Rp 100.000</th>\n",
       "      <td>73</td>\n",
       "      <td>0.243333</td>\n",
       "    </tr>\n",
       "    <tr>\n",
       "      <th>&gt; Rp 300.000</th>\n",
       "      <td>62</td>\n",
       "      <td>0.206667</td>\n",
       "    </tr>\n",
       "    <tr>\n",
       "      <th>Rp 150.001 – Rp 300.000</th>\n",
       "      <td>58</td>\n",
       "      <td>0.193333</td>\n",
       "    </tr>\n",
       "    <tr>\n",
       "      <th>Rp 100.001 – Rp 150.000</th>\n",
       "      <td>51</td>\n",
       "      <td>0.170000</td>\n",
       "    </tr>\n",
       "    <tr>\n",
       "      <th>Rp 25.000 – Rp 50.000,-</th>\n",
       "      <td>33</td>\n",
       "      <td>0.110000</td>\n",
       "    </tr>\n",
       "    <tr>\n",
       "      <th>&lt; Rp 25.000,-</th>\n",
       "      <td>3</td>\n",
       "      <td>0.010000</td>\n",
       "    </tr>\n",
       "  </tbody>\n",
       "</table>\n",
       "</div>"
      ],
      "text/plain": [
       "                         Frekuensi  Proporsi\n",
       "Nominal Top Up eMoney                       \n",
       "Rp 50.001 – Rp 100.000          73  0.243333\n",
       "> Rp 300.000                    62  0.206667\n",
       "Rp 150.001 – Rp 300.000         58  0.193333\n",
       "Rp 100.001 – Rp 150.000         51  0.170000\n",
       "Rp 25.000 – Rp 50.000,-         33  0.110000\n",
       "< Rp 25.000,-                    3  0.010000"
      ]
     },
     "execution_count": 608,
     "metadata": {},
     "output_type": "execute_result"
    }
   ],
   "source": [
    "# 22. Buat tabel frekuensi dan proporsi untuk nominal yang biasa dipakai untuk top up emoney.\n",
    "dfNOM"
   ]
  },
  {
   "attachments": {},
   "cell_type": "markdown",
   "metadata": {},
   "source": [
    "# Nomor 23"
   ]
  },
  {
   "cell_type": "code",
   "execution_count": 609,
   "metadata": {},
   "outputs": [
    {
     "data": {
      "image/png": "[encoded data removed]",
      "text/plain": [
       "<Figure size 640x480 with 1 Axes>"
      ]
     },
     "metadata": {},
     "output_type": "display_data"
    }
   ],
   "source": [
    "# 23. Buat bar chart yang perbandingan frekuensi/proporsi pengguna 7 ecommerce yang ada di\n",
    "# kolom ecommerce_pilihan_1 sampai ecommerce_pilihan_7 (8 – 12 tidak usah)\n",
    "dfECOM = (df.iloc[:, 116:123]).apply(pd.Series.value_counts).dropna(how='all').sum(1).sort_values(ascending=False)\n",
    "dfECOM = dfECOM.reset_index(name='Frekuensi').set_index('index')\n",
    "dfECOM['Proporsi'] = dfECOM['Frekuensi']/len(df)\n",
    "dfECOM.index.name = 'Pengguna Ecommerce'\n",
    "\n",
    "bar = sns.barplot(dfECOM, x=dfECOM['Frekuensi'], y=dfECOM.index, palette='hls')\n",
    "bar.set_title('Jumlah Pengguna eCommerce Responden')\n",
    "bar.set_axisbelow(True)\n",
    "plt.grid(axis = 'x')\n",
    "plt.show()"
   ]
  },
  {
   "attachments": {},
   "cell_type": "markdown",
   "metadata": {},
   "source": [
    "# Nomor 24"
   ]
  },
  {
   "cell_type": "code",
   "execution_count": 610,
   "metadata": {},
   "outputs": [
    {
     "data": {
      "text/html": [
       "<div>\n",
       "<style scoped>\n",
       "    .dataframe tbody tr th:only-of-type {\n",
       "        vertical-align: middle;\n",
       "    }\n",
       "\n",
       "    .dataframe tbody tr th {\n",
       "        vertical-align: top;\n",
       "    }\n",
       "\n",
       "    .dataframe thead th {\n",
       "        text-align: right;\n",
       "    }\n",
       "</style>\n",
       "<table border=\"1\" class=\"dataframe\">\n",
       "  <thead>\n",
       "    <tr style=\"text-align: right;\">\n",
       "      <th></th>\n",
       "      <th>Frekuensi</th>\n",
       "      <th>Proporsi</th>\n",
       "    </tr>\n",
       "    <tr>\n",
       "      <th>Pengguna Ecommerce</th>\n",
       "      <th></th>\n",
       "      <th></th>\n",
       "    </tr>\n",
       "  </thead>\n",
       "  <tbody>\n",
       "    <tr>\n",
       "      <th>Shopee</th>\n",
       "      <td>224.0</td>\n",
       "      <td>0.746667</td>\n",
       "    </tr>\n",
       "    <tr>\n",
       "      <th>Gojek (GoFood</th>\n",
       "      <td>210.0</td>\n",
       "      <td>0.700000</td>\n",
       "    </tr>\n",
       "    <tr>\n",
       "      <th>Tokopedia</th>\n",
       "      <td>186.0</td>\n",
       "      <td>0.620000</td>\n",
       "    </tr>\n",
       "    <tr>\n",
       "      <th>Grab (GrabFood</th>\n",
       "      <td>106.0</td>\n",
       "      <td>0.353333</td>\n",
       "    </tr>\n",
       "    <tr>\n",
       "      <th>Traveloka</th>\n",
       "      <td>61.0</td>\n",
       "      <td>0.203333</td>\n",
       "    </tr>\n",
       "    <tr>\n",
       "      <th>Lazada</th>\n",
       "      <td>30.0</td>\n",
       "      <td>0.100000</td>\n",
       "    </tr>\n",
       "    <tr>\n",
       "      <th>Tiket.com</th>\n",
       "      <td>22.0</td>\n",
       "      <td>0.073333</td>\n",
       "    </tr>\n",
       "  </tbody>\n",
       "</table>\n",
       "</div>"
      ],
      "text/plain": [
       "                    Frekuensi  Proporsi\n",
       "Pengguna Ecommerce                     \n",
       "Shopee                  224.0  0.746667\n",
       "Gojek (GoFood           210.0  0.700000\n",
       "Tokopedia               186.0  0.620000\n",
       "Grab (GrabFood          106.0  0.353333\n",
       "Traveloka                61.0  0.203333\n",
       "Lazada                   30.0  0.100000\n",
       "Tiket.com                22.0  0.073333"
      ]
     },
     "execution_count": 610,
     "metadata": {},
     "output_type": "execute_result"
    }
   ],
   "source": [
    "# 24. Buat tabel frekuensi dan proporsi pengguna 7 ecommerce yang ada di kolom ecommerce_pilihan_1 sampai ecommerce_pilihan_7 (8 – 12 tidak usah)\n",
    "dfECOM"
   ]
  },
  {
   "attachments": {},
   "cell_type": "markdown",
   "metadata": {},
   "source": [
    "# Nomor 25"
   ]
  },
  {
   "cell_type": "code",
   "execution_count": 611,
   "metadata": {},
   "outputs": [
    {
     "data": {
      "image/png": "[encoded data removed]",
      "text/plain": [
       "<Figure size 640x480 with 1 Axes>"
      ]
     },
     "metadata": {},
     "output_type": "display_data"
    }
   ],
   "source": [
    "# 25. Buat bar chart / pie chart/ donut chart yang menunjukkan perbedaan frekuensi / proporsi untuk\n",
    "# responden yang prefer beli handphone secara offline vs online\n",
    "dfHP = (df.iloc[:, 99:100]).apply(pd.Series.value_counts).dropna(how='all').sum(1).sort_values(ascending=False)\n",
    "dfHP = dfHP.reset_index(name='Frekuensi').set_index('index')\n",
    "dfHP['Proporsi'] = dfHP['Frekuensi']/len(df)\n",
    "dfHP.index.name = 'Transfer Antar Bank'\n",
    "\n",
    "color = ['cyan', 'coral']\n",
    "plt.pie(dfHP['Proporsi'], labels = dfHP.index,autopct='%.2f%%', normalize=True, colors=color)\n",
    "plt.title('Preferensi Pembelian Handphone Responden')\n",
    "plt.show()"
   ]
  },
  {
   "attachments": {},
   "cell_type": "markdown",
   "metadata": {},
   "source": [
    "# Nomor 26"
   ]
  },
  {
   "cell_type": "code",
   "execution_count": 612,
   "metadata": {},
   "outputs": [
    {
     "data": {
      "text/html": [
       "<div>\n",
       "<style scoped>\n",
       "    .dataframe tbody tr th:only-of-type {\n",
       "        vertical-align: middle;\n",
       "    }\n",
       "\n",
       "    .dataframe tbody tr th {\n",
       "        vertical-align: top;\n",
       "    }\n",
       "\n",
       "    .dataframe thead th {\n",
       "        text-align: right;\n",
       "    }\n",
       "</style>\n",
       "<table border=\"1\" class=\"dataframe\">\n",
       "  <thead>\n",
       "    <tr style=\"text-align: right;\">\n",
       "      <th></th>\n",
       "      <th>Frekuensi</th>\n",
       "      <th>Proporsi</th>\n",
       "    </tr>\n",
       "    <tr>\n",
       "      <th>Transfer Antar Bank</th>\n",
       "      <th></th>\n",
       "      <th></th>\n",
       "    </tr>\n",
       "  </thead>\n",
       "  <tbody>\n",
       "    <tr>\n",
       "      <th>offline/ langsung datang ke toko fisik</th>\n",
       "      <td>225</td>\n",
       "      <td>0.750000</td>\n",
       "    </tr>\n",
       "    <tr>\n",
       "      <th>online</th>\n",
       "      <td>49</td>\n",
       "      <td>0.163333</td>\n",
       "    </tr>\n",
       "  </tbody>\n",
       "</table>\n",
       "</div>"
      ],
      "text/plain": [
       "                                        Frekuensi  Proporsi\n",
       "Transfer Antar Bank                                        \n",
       "offline/ langsung datang ke toko fisik        225  0.750000\n",
       "online                                         49  0.163333"
      ]
     },
     "execution_count": 612,
     "metadata": {},
     "output_type": "execute_result"
    }
   ],
   "source": [
    "# 26. Buat tabel frekuensi dan proporsi untuk responden yang prefer beli handphone secara offline vs online\n",
    "dfHP"
   ]
  },
  {
   "attachments": {},
   "cell_type": "markdown",
   "metadata": {},
   "source": [
    "# Nomor 27"
   ]
  },
  {
   "cell_type": "code",
   "execution_count": 613,
   "metadata": {},
   "outputs": [
    {
     "data": {
      "image/png": "[encoded data removed]",
      "text/plain": [
       "<Figure size 640x480 with 1 Axes>"
      ]
     },
     "metadata": {},
     "output_type": "display_data"
    }
   ],
   "source": [
    "# 27. Buat bar chart / pie chart/ donut chart yang menunjukkan perbedaan frekuensi / proporsi\n",
    "# untuk tempat beli makanan online yang pilihan responden\n",
    "dfMKN = (df.iloc[:, 128:129]).apply(pd.Series.value_counts).dropna(how='all').sum(1).sort_values(ascending=False)\n",
    "dfMKN = dfMKN.reset_index(name='Frekuensi').set_index('index')\n",
    "dfMKN['Proporsi'] = dfMKN['Frekuensi']/len(df)\n",
    "dfMKN.index.name = 'Tempat Beli Makanan Online'\n",
    "\n",
    "dfMKNresp = dfMKN[0:3]\n",
    "bar = sns.barplot(dfMKNresp, x=dfMKNresp['Frekuensi'], y=dfMKNresp.index, palette='husl')\n",
    "bar.set_title('Tempat Beli Makanan Online oleh Responden')\n",
    "bar.set_axisbelow(True)\n",
    "plt.grid(axis = 'x')\n",
    "plt.show()"
   ]
  },
  {
   "attachments": {},
   "cell_type": "markdown",
   "metadata": {},
   "source": [
    "# Nomor 28"
   ]
  },
  {
   "cell_type": "code",
   "execution_count": 614,
   "metadata": {},
   "outputs": [
    {
     "data": {
      "text/html": [
       "<div>\n",
       "<style scoped>\n",
       "    .dataframe tbody tr th:only-of-type {\n",
       "        vertical-align: middle;\n",
       "    }\n",
       "\n",
       "    .dataframe tbody tr th {\n",
       "        vertical-align: top;\n",
       "    }\n",
       "\n",
       "    .dataframe thead th {\n",
       "        text-align: right;\n",
       "    }\n",
       "</style>\n",
       "<table border=\"1\" class=\"dataframe\">\n",
       "  <thead>\n",
       "    <tr style=\"text-align: right;\">\n",
       "      <th></th>\n",
       "      <th>Frekuensi</th>\n",
       "      <th>Proporsi</th>\n",
       "    </tr>\n",
       "    <tr>\n",
       "      <th>Tempat Beli Makanan Online</th>\n",
       "      <th></th>\n",
       "      <th></th>\n",
       "    </tr>\n",
       "  </thead>\n",
       "  <tbody>\n",
       "    <tr>\n",
       "      <th>GoFood</th>\n",
       "      <td>150</td>\n",
       "      <td>0.500000</td>\n",
       "    </tr>\n",
       "    <tr>\n",
       "      <th>ShopeeFood</th>\n",
       "      <td>82</td>\n",
       "      <td>0.273333</td>\n",
       "    </tr>\n",
       "    <tr>\n",
       "      <th>GrabFood</th>\n",
       "      <td>54</td>\n",
       "      <td>0.180000</td>\n",
       "    </tr>\n",
       "  </tbody>\n",
       "</table>\n",
       "</div>"
      ],
      "text/plain": [
       "                            Frekuensi  Proporsi\n",
       "Tempat Beli Makanan Online                     \n",
       "GoFood                            150  0.500000\n",
       "ShopeeFood                         82  0.273333\n",
       "GrabFood                           54  0.180000"
      ]
     },
     "execution_count": 614,
     "metadata": {},
     "output_type": "execute_result"
    }
   ],
   "source": [
    "# 28. Buat tabel frekuensi dan proporsi untuk tempat beli makanan online yang pilihan responden\n",
    "dfMKNresp"
   ]
  },
  {
   "attachments": {},
   "cell_type": "markdown",
   "metadata": {},
   "source": [
    "# Nomor 29"
   ]
  },
  {
   "cell_type": "code",
   "execution_count": 615,
   "metadata": {},
   "outputs": [
    {
     "data": {
      "text/html": [
       "<div>\n",
       "<style scoped>\n",
       "    .dataframe tbody tr th:only-of-type {\n",
       "        vertical-align: middle;\n",
       "    }\n",
       "\n",
       "    .dataframe tbody tr th {\n",
       "        vertical-align: top;\n",
       "    }\n",
       "\n",
       "    .dataframe thead th {\n",
       "        text-align: right;\n",
       "    }\n",
       "</style>\n",
       "<table border=\"1\" class=\"dataframe\">\n",
       "  <thead>\n",
       "    <tr style=\"text-align: right;\">\n",
       "      <th></th>\n",
       "      <th>df</th>\n",
       "      <th>sum_sq</th>\n",
       "      <th>mean_sq</th>\n",
       "      <th>F</th>\n",
       "      <th>PR(&gt;F)</th>\n",
       "    </tr>\n",
       "  </thead>\n",
       "  <tbody>\n",
       "    <tr>\n",
       "      <th>C(Food)</th>\n",
       "      <td>6.0</td>\n",
       "      <td>7408.943237</td>\n",
       "      <td>1234.823873</td>\n",
       "      <td>6.764783</td>\n",
       "      <td>0.000001</td>\n",
       "    </tr>\n",
       "    <tr>\n",
       "      <th>Residual</th>\n",
       "      <td>288.0</td>\n",
       "      <td>52570.683882</td>\n",
       "      <td>182.537097</td>\n",
       "      <td>NaN</td>\n",
       "      <td>NaN</td>\n",
       "    </tr>\n",
       "  </tbody>\n",
       "</table>\n",
       "</div>"
      ],
      "text/plain": [
       "             df        sum_sq      mean_sq         F    PR(>F)\n",
       "C(Food)     6.0   7408.943237  1234.823873  6.764783  0.000001\n",
       "Residual  288.0  52570.683882   182.537097       NaN       NaN"
      ]
     },
     "execution_count": 615,
     "metadata": {},
     "output_type": "execute_result"
    }
   ],
   "source": [
    "# 29. Lakukan One Way ANOVA Test berikut:\n",
    "# H0: Mean umur pengguna gofood = mean umur pengguna grabfood = mean umur\n",
    "# pengguna shopeefood\n",
    "# H1: Setidaknya ada dua grup yang memiliki mean umur yang berbeda\n",
    "# alpha: 5%\n",
    "df_top3_food = df[(df['50. Apakah Anda pernah menggunakan layanan Food Delivery (pembelian makanan/ minuman secara online )? Jika Pernah, mohon sebutkan layanan yang PALING sering Anda gunakan?'] == 'GoFood') \n",
    "| (df['50. Apakah Anda pernah menggunakan layanan Food Delivery (pembelian makanan/ minuman secara online )? Jika Pernah, mohon sebutkan layanan yang PALING sering Anda gunakan?'] == 'ShopeeFood')  \n",
    "| (df['50. Apakah Anda pernah menggunakan layanan Food Delivery (pembelian makanan/ minuman secara online )? Jika Pernah, mohon sebutkan layanan yang PALING sering Anda gunakan?'] == 'GrabFood')]\n",
    "df_umur_food = df[['Usia', '50. Apakah Anda pernah menggunakan layanan Food Delivery (pembelian makanan/ minuman secara online )? Jika Pernah, mohon sebutkan layanan yang PALING sering Anda gunakan?']]\n",
    "df29 = df_umur_food.rename(columns={'50. Apakah Anda pernah menggunakan layanan Food Delivery (pembelian makanan/ minuman secara online )? Jika Pernah, mohon sebutkan layanan yang PALING sering Anda gunakan?': 'Food'})\n",
    "\n",
    "model = ols('Usia ~ C(Food)', data=df29).fit()\n",
    "anova_table = sm.stats.anova_lm(model, typ=1)\n",
    "anova_table\n"
   ]
  },
  {
   "cell_type": "code",
   "execution_count": 616,
   "metadata": {},
   "outputs": [
    {
     "name": "stdout",
     "output_type": "stream",
     "text": [
      "Crit Region: f > 2.13\n",
      "Kesimpulan: f di dalam critical region, H0 berhasil ditolak.\n"
     ]
    }
   ],
   "source": [
    "f_alpha = st.f.ppf(0.95, dfn = 6, dfd = 288)\n",
    "print(f'Crit Region: f > {f_alpha:.2f}')\n",
    "\n",
    "print('Kesimpulan: f di dalam critical region, H0 berhasil ditolak.')"
   ]
  },
  {
   "attachments": {},
   "cell_type": "markdown",
   "metadata": {},
   "source": [
    "# Nomor 30\n",
    "Tuliskan minimal 5 insights/pelajaran dari hasil pengolahan data responden.\n",
    "1. Aktivitas responden meningkat hampir 50% dalam 3 bulan terakhir\n",
    "2. Bank BCA merupakan bank yang paling banyak dipakai oleh pengguna\n",
    "3. Transfer antar bank mayoritas menggunakan Mobile Banking\n",
    "4. EMoney yang paling sering digunakan oleh pengguna yaitu GoPay\n",
    "5. Rata-rata top up eMoney berada di kisaran Rp50.001-RP100.000\n",
    "6. ECommerce Shopee paling sering digunakan oleh responden\n",
    "7. Mayoritas responden melakukan pembelian HP secara offline\n",
    "8. Wadah tempat pembelian makan online yang sering digunakan yaitu GoFood oleh responden"
   ]
  }
 ],
 "metadata": {
  "kernelspec": {
   "display_name": "Python 3",
   "language": "python",
   "name": "python3"
  },
  "language_info": {
   "codemirror_mode": {
    "name": "ipython",
    "version": 3
   },
   "file_extension": ".py",
   "mimetype": "text/x-python",
   "name": "python",
   "nbconvert_exporter": "python",
   "pygments_lexer": "ipython3",
   "version": "3.10.4"
  },
  "orig_nbformat": 4,
  "vscode": {
   "interpreter": {
    "hash": "bd5508c2ffc7f17f7d31cf4086cc872f89e96996a08987e995649e5fbe85a3a4"
   }
  }
 },
 "nbformat": 4,
 "nbformat_minor": 2
}
